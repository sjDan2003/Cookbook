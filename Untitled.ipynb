{
 "cells": [
  {
   "cell_type": "code",
   "execution_count": 1,
   "metadata": {},
   "outputs": [],
   "source": [
    "import bs4 as bs\n",
    "import urllib.request\n",
    "import json\n",
    "import dropbox"
   ]
  },
  {
   "cell_type": "code",
   "execution_count": 2,
   "metadata": {},
   "outputs": [],
   "source": [
    "dropboxToken = 'r7FctnUmsg4AAAAAAAAHAaJAO_43UvZfPkG2mJ8gnv2ru9NFCGF59Y4kf1z51Fd-'\n",
    "url = 'https://www.runnersworld.com/recipes/irish-pork-stew-with-irish-stout-and-caraway-seeds'"
   ]
  },
  {
   "cell_type": "code",
   "execution_count": 3,
   "metadata": {},
   "outputs": [],
   "source": [
    "source = urllib.request.urlopen(url).read()\n",
    "soup = bs.BeautifulSoup(source,'lxml')"
   ]
  },
  {
   "cell_type": "code",
   "execution_count": 4,
   "metadata": {},
   "outputs": [
    {
     "name": "stdout",
     "output_type": "stream",
     "text": [
      "<title>Irish Pork Stew with Irish Stout and Caraway Seeds</title>\n",
      "title\n",
      "Irish Pork Stew with Irish Stout and Caraway Seeds\n",
      "head\n",
      "<p class=\"body-text\"></p>\n"
     ]
    }
   ],
   "source": [
    "# title of the page\n",
    "print(soup.title)\n",
    "\n",
    "# get attributes:\n",
    "print(soup.title.name)\n",
    "\n",
    "# get values:\n",
    "print(soup.title.string)\n",
    "\n",
    "# beginning navigation:\n",
    "print(soup.title.parent.name)\n",
    "\n",
    "# getting specific values:\n",
    "print(soup.p)"
   ]
  },
  {
   "cell_type": "code",
   "execution_count": 5,
   "metadata": {},
   "outputs": [
    {
     "name": "stdout",
     "output_type": "stream",
     "text": [
      "{'@context': 'http://schema.org', 'url': 'https://www.prevention.com/food-nutrition/recipes/a20532600/irish-pork-stew-with-irish-stout-and-caraway-seeds/', 'publisher': {'@type': 'Organization', 'name': 'Prevention', 'logo': {'@type': 'ImageObject', 'url': 'https://assets.hearstapps.com/sites/prevention/assets/images/logos/logo-jsonld.0fc4a1e.png', 'width': 291, 'height': 60}}, '@type': 'Recipe', 'author': {'name': 'Elizabeth Martlock', '@type': 'Person'}, 'dateModified': '2018-05-25T19:58:39.959155Z', 'datePublished': '2016-03-12T05:15:49Z', 'headline': 'Irish Pork Stew with Irish Stout and Caraway Seeds', 'image': {'@type': 'ImageObject', 'height': 636, 'thumbnail': 'https://hips.hearstapps.com/hmg-prod.s3.amazonaws.com/images/rf-generic6-shutterstock-136321649-1457104939.jpg?crop=0.636xw:1xh;center,top&resize=100:*', 'url': 'https://hips.hearstapps.com/hmg-prod.s3.amazonaws.com/images/rf-generic6-shutterstock-136321649-1457104939.jpg', 'width': 1000}, 'mainEntityOfPage': {'@id': 'https://www.prevention.com/food-nutrition/recipes/a20532600/irish-pork-stew-with-irish-stout-and-caraway-seeds/', '@type': 'WebPage'}, 'thumbnailUrl': 'https://hips.hearstapps.com/hmg-prod.s3.amazonaws.com/images/rf-generic6-shutterstock-136321649-1457104939.jpg?crop=0.636xw:1xh;center,top&resize=100:*', 'name': 'Irish Pork Stew with Irish Stout and Caraway Seeds', 'prepTime': 'PT15M', 'cookTime': 'PT1H', 'totalTime': 'PT1H15M', 'recipeIngredient': ['1/3 c. flour', '1/4 tsp. pepper', '2 lb. boneless pork shoulder, cut into 1 1/2\" cubes and carefully trimmed of all visible excess fat', '1 tsp. vegetable oil', '4 large onions, chopped', '1 clove garlic, finely chopped', '1/2 bunch parsley, finely chopped', '1 tsp. caraway seeds', '1 bay leaf', '1 1/3 c. reduced-sodium chicken broth', '1 bottle (12 ounces) Irish stout, such as Guinness', '2 tbsp. red wine vinegar', '1 tbsp. brown sugar, packed', 'salt', 'ground black pepper'], 'recipeInstructions': 'Heat the oil in a large Dutch oven over medium-high heat. Add the pork and cook for 5 minutes, or until the pork has browned on all sides. Reduce the heat to medium. Add the onions and garlic and cook for 4 minutes, or until the onions are soft. Add the parsley, caraway seeds, bay leaf, broth, beer, vinegar, and sugar. Add salt and pepper to taste. Reduce the heat to low-medium, and, stirring frequently, cook for 1 to 1 1/2 hours, or until the pork becomes very tender.', 'video': [], 'recipeCuisine': [], 'recipeCategory': ['dairy-free', 'low-calorie', 'nut-free', 'soup'], 'recipeYield': '6 servings'}\n"
     ]
    }
   ],
   "source": [
    "data = json.loads(soup.find('script', type='application/ld+json').text)\n",
    "\n",
    "print(data)"
   ]
  },
  {
   "cell_type": "code",
   "execution_count": 6,
   "metadata": {},
   "outputs": [
    {
     "name": "stdout",
     "output_type": "stream",
     "text": [
      "<class 'dict'>\n"
     ]
    }
   ],
   "source": [
    "print(type(data))"
   ]
  },
  {
   "cell_type": "code",
   "execution_count": 7,
   "metadata": {},
   "outputs": [
    {
     "data": {
      "text/plain": [
       "FullAccount(account_id='dbid:AACmN4kmhiO5d_4JyLk8Ej_1fyUamiTFg-8', name=Name(given_name='Dan', surname='Fettke', familiar_name='Dan', display_name='Dan Fettke', abbreviated_name='DF'), email='sjdan2003@gmail.com', email_verified=True, disabled=False, locale='en', referral_link='https://db.tt/nthTkj76sR', is_paired=False, account_type=AccountType('basic', None), root_info=UserRootInfo(root_namespace_id='115928788', home_namespace_id='115928788'), profile_photo_url='https://dl-web.dropbox.com/account_photo/get/dbaphid%3AAAAUyNDLEv3w8QfMu0jv0lYUjiV36pxoQKo?size=128x128&vers=1504842945447', country='US', team=None, team_member_id=None)"
      ]
     },
     "execution_count": 7,
     "metadata": {},
     "output_type": "execute_result"
    }
   ],
   "source": [
    "dbx = dropbox.Dropbox(dropboxToken)\n",
    "dbx.users_get_current_account()"
   ]
  },
  {
   "cell_type": "code",
   "execution_count": null,
   "metadata": {},
   "outputs": [],
   "source": []
  }
 ],
 "metadata": {
  "kernelspec": {
   "display_name": "Python 3",
   "language": "python",
   "name": "python3"
  },
  "language_info": {
   "codemirror_mode": {
    "name": "ipython",
    "version": 3
   },
   "file_extension": ".py",
   "mimetype": "text/x-python",
   "name": "python",
   "nbconvert_exporter": "python",
   "pygments_lexer": "ipython3",
   "version": "3.7.1"
  }
 },
 "nbformat": 4,
 "nbformat_minor": 2
}
